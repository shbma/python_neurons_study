{
 "cells": [
  {
   "cell_type": "code",
   "execution_count": 0,
   "metadata": {
    "colab": {},
    "colab_type": "code",
    "id": "HHCCez7rBOsP"
   },
   "outputs": [],
   "source": [
    "import torch\n",
    "from torchvision import transforms"
   ]
  },
  {
   "cell_type": "markdown",
   "metadata": {
    "colab_type": "text",
    "id": "ZpcYl4QdBOtW"
   },
   "source": [
    "### Подготовка данных"
   ]
  },
  {
   "cell_type": "code",
   "execution_count": 0,
   "metadata": {
    "colab": {},
    "colab_type": "code",
    "id": "1bD039kaBOts"
   },
   "outputs": [],
   "source": [
    "from torchvision.datasets import MNIST"
   ]
  },
  {
   "cell_type": "code",
   "execution_count": 0,
   "metadata": {
    "colab": {},
    "colab_type": "code",
    "id": "qS06LnPYBOuI"
   },
   "outputs": [],
   "source": [
    "_tasks = transforms.Compose([\n",
    "    transforms.ToTensor(),\n",
    "    transforms.Normalize((0.1307,), (0.3081,))\n",
    "    ])"
   ]
  },
  {
   "cell_type": "code",
   "execution_count": 0,
   "metadata": {
    "colab": {},
    "colab_type": "code",
    "id": "mYiWGsHZBOut"
   },
   "outputs": [],
   "source": [
    "## Load MNIST Dataset and apply transformations\n",
    "mnist = MNIST('./MNIST_data', download=True, train=True, transform=_tasks)"
   ]
  },
  {
   "cell_type": "code",
   "execution_count": 0,
   "metadata": {
    "colab": {},
    "colab_type": "code",
    "id": "8Xhow1ANBOvE"
   },
   "outputs": [],
   "source": [
    "from torch.utils.data import DataLoader\n",
    "from torch.utils.data.sampler import SubsetRandomSampler"
   ]
  },
  {
   "cell_type": "code",
   "execution_count": 0,
   "metadata": {
    "colab": {},
    "colab_type": "code",
    "id": "qEEG71LmBOvX"
   },
   "outputs": [],
   "source": [
    "## create training and validation split \n",
    "split = int(0.8 * len(mnist))\n",
    "index_list = list(range(len(mnist)))\n",
    "train_idx, valid_idx = index_list[:split], index_list[split:]"
   ]
  },
  {
   "cell_type": "code",
   "execution_count": 0,
   "metadata": {
    "colab": {},
    "colab_type": "code",
    "id": "-0kHX5mnBOvq"
   },
   "outputs": [],
   "source": [
    "## create sampler objects using SubsetRandomSampler\n",
    "tr_sampler = SubsetRandomSampler(train_idx)\n",
    "val_sampler = SubsetRandomSampler(valid_idx)"
   ]
  },
  {
   "cell_type": "code",
   "execution_count": 0,
   "metadata": {
    "colab": {},
    "colab_type": "code",
    "id": "z3x73FxHBOwC"
   },
   "outputs": [],
   "source": [
    "## create iterator objects for train and valid datasets\n",
    "batch_size = 50\n",
    "trainloader = DataLoader(mnist, batch_size=batch_size, sampler=tr_sampler)\n",
    "validloader = DataLoader(mnist, batch_size=batch_size, sampler=val_sampler)"
   ]
  },
  {
   "cell_type": "markdown",
   "metadata": {
    "colab_type": "text",
    "id": "4ZgfJxq3BOwf"
   },
   "source": [
    "### Задаем архитектуру нейросети"
   ]
  },
  {
   "cell_type": "code",
   "execution_count": 0,
   "metadata": {
    "colab": {},
    "colab_type": "code",
    "id": "-KaktBeWBOwv"
   },
   "outputs": [],
   "source": [
    "import torch.nn as nn\n",
    "import torch.nn.functional as F\n",
    "import torch.optim as optim\n",
    "from torchvision import datasets\n",
    "\n",
    "import numpy as np\n",
    "\n",
    "%matplotlib inline"
   ]
  },
  {
   "cell_type": "code",
   "execution_count": 0,
   "metadata": {
    "colab": {},
    "colab_type": "code",
    "id": "CpHnsD9OBOxp"
   },
   "outputs": [],
   "source": [
    "import matplotlib\n",
    "import matplotlib.pyplot as plt\n",
    "import numpy as np\n",
    "%matplotlib inline"
   ]
  },
  {
   "cell_type": "markdown",
   "metadata": {
    "colab_type": "text",
    "id": "GVd0-pb-BOyX"
   },
   "source": [
    "Связь между параметрами свертки и шириной входного/выходного изображения:\n",
    "\n",
    "$$W_{out} = \\frac{(W_{in} - K + 2P)}{S} + 1$$\n",
    "\n",
    "где $W_{int}$ - ширина входа, $K$ - размер ядра, $P$ - padding, $S$ - шаг\n",
    "\n",
    "Источник: https://neurohive.io/ru/tutorial/cnn-na-pytorch/ "
   ]
  },
  {
   "cell_type": "code",
   "execution_count": 0,
   "metadata": {
    "colab": {},
    "colab_type": "code",
    "id": "HUZccyq-BOyh"
   },
   "outputs": [],
   "source": [
    "class Interpolate(nn.Module):\n",
    "    \"\"\"Обертка для nn.functional.interpolate, чтобы ее можно было использовать в nn.Sequential.\n",
    "    А все потому, что 'nn.Upsample is deprecated'\n",
    "    \"\"\"\n",
    "    def __init__(self, size=None, scale_factor=None, mode='nearest', align_corners=None):\n",
    "        super(Interpolate, self).__init__()\n",
    "        self.interp = nn.functional.interpolate\n",
    "        self.size = size\n",
    "        self.mode = mode\n",
    "        self.scale_factor = scale_factor\n",
    "        self.align_corners = align_corners\n",
    "        \n",
    "    def forward(self, x):\n",
    "        x = self.interp(x, size=self.size, scale_factor=self.scale_factor, mode=self.mode, align_corners=self.align_corners)\n",
    "        return x"
   ]
  },
  {
   "cell_type": "code",
   "execution_count": 0,
   "metadata": {
    "colab": {},
    "colab_type": "code",
    "id": "Lps32IZ1BOy3"
   },
   "outputs": [],
   "source": [
    "class Encoder(nn.Module):\n",
    "    \"\"\" подсеть кодировщик \"\"\"\n",
    "    def __init__(self):\n",
    "        super().__init__()\n",
    "        \n",
    "        # сверточные слои\n",
    "        self.layer1 = nn.Sequential(\n",
    "            nn.Conv2d(1, 16, kernel_size=3, stride=1, padding=1),\n",
    "            nn.ReLU(), \n",
    "            nn.MaxPool2d(kernel_size=2, stride=2)\n",
    "        ) \n",
    "        # => матрицы 14x14\n",
    "        self.layer2 = nn.Sequential(\n",
    "            nn.Conv2d(16, 8, kernel_size=3, stride=1, padding=1),\n",
    "            nn.ReLU(),\n",
    "            nn.MaxPool2d(kernel_size=2, stride=2)\n",
    "        ) \n",
    "        # => матрицы 7x7\n",
    "    \n",
    "    def forward(self, x):\n",
    "        x = self.layer1(x) \n",
    "        x = self.layer2(x) \n",
    "        return x\n",
    "    \n",
    "class Decoder(nn.Module):\n",
    "    \"\"\" сеть декодировщик \"\"\"\n",
    "    def __init__(self):\n",
    "        super().__init__()        \n",
    "        \n",
    "        # сверточные слои\n",
    "        self.layer1 = nn.Sequential(\n",
    "            nn.Conv2d(8, 8, kernel_size=3, stride=1, padding=1),\n",
    "            nn.ReLU(),            \n",
    "            #nn.Upsample(scale_factor=2, mode='nearest')\n",
    "            Interpolate(scale_factor=2, mode='nearest')\n",
    "        ) \n",
    "        # => матрицы 14x14\n",
    "        self.layer2 = nn.Sequential(\n",
    "            nn.Conv2d(8, 16, kernel_size=3, stride=1, padding=1),\n",
    "            nn.ReLU(),            \n",
    "            #nn.Upsample(scale_factor=2, mode='nearest')\n",
    "            Interpolate(scale_factor=2, mode='nearest')\n",
    "        ) \n",
    "        # => матрицы 28x28\n",
    "        self.layer3 = nn.Sequential(\n",
    "            nn.Conv2d(16, 1, kernel_size=3, stride=1, padding=1),\n",
    "            nn.Sigmoid(),                        \n",
    "        ) \n",
    "        # => матрицы 28x28\n",
    "    \n",
    "    def forward(self, x):\n",
    "        x = self.layer1(x) \n",
    "        x = self.layer2(x) \n",
    "        x = self.layer3(x) \n",
    "        return x"
   ]
  },
  {
   "cell_type": "code",
   "execution_count": 0,
   "metadata": {
    "colab": {},
    "colab_type": "code",
    "id": "pmzrMlH3BOzK"
   },
   "outputs": [],
   "source": [
    "class Net(nn.Module):\n",
    "    \"\"\" сеть кодировщик+декодировщик \"\"\"\n",
    "    def __init__(self, name=\"ae\"):\n",
    "        super().__init__()\n",
    "        \n",
    "        self.name = name        \n",
    "        self.E = Encoder()\n",
    "        self.D = Decoder()\n",
    "                \n",
    "        self.optim = optim.Adam(self.parameters(), lr=1e-4)\n",
    "        self._loss = nn.MSELoss()\n",
    "        \n",
    "    def forward(self, x):                \n",
    "        h = self.E(x)        \n",
    "        out = self.D(h)\n",
    "        \n",
    "        return out\n",
    "    \n",
    "    def decode(self, h):\n",
    "        with torch.no_grad():\n",
    "            return self.D(h)    \n",
    "    \n",
    "    def loss(self, output, target):                 \n",
    "        return self._loss(output, target) #F.cross_entropy(output, target) "
   ]
  },
  {
   "cell_type": "markdown",
   "metadata": {
    "colab_type": "text",
    "id": "635aOUllBO0L"
   },
   "source": [
    "### Тренировка"
   ]
  },
  {
   "cell_type": "markdown",
   "metadata": {
    "colab_type": "text",
    "id": "z8I6VT4UBO0a"
   },
   "source": [
    "######  несколько вспомогательных функций"
   ]
  },
  {
   "cell_type": "code",
   "execution_count": 0,
   "metadata": {
    "colab": {},
    "colab_type": "code",
    "id": "pWorJpRoBO0k"
   },
   "outputs": [],
   "source": [
    "# Строит графики динамики обучения\n",
    "def show(loss_history, title):\n",
    "    fig, ax1 = plt.subplots(1,1, figsize=(14,4))\n",
    "\n",
    "    ax1.plot(loss_history['valid'], label='на проверочном наборе')\n",
    "    ax1.plot(loss_history['train'], label='на обучающем наборе')\n",
    "    ax1.grid()\n",
    "    ax1.set_title(title)    \n",
    "    ax1.set_xlabel('Эпоха обучения')\n",
    "    ax1.set_ylabel('Loss')\n",
    "    ax1.legend()    "
   ]
  },
  {
   "cell_type": "code",
   "execution_count": 0,
   "metadata": {
    "colab": {},
    "colab_type": "code",
    "id": "yUoTZbxOBO0y"
   },
   "outputs": [],
   "source": [
    "# отрисовывает в черно-белом стиле изображения из массива images,\n",
    "# расставляя их по матрице формы shape\n",
    "def plot_mnist(images, shape, title):\n",
    "    fig = plt.figure(figsize=shape[::-1], dpi=80)    \n",
    "    \n",
    "    for j in range(1, len(images) + 1):\n",
    "        ax = fig.add_subplot(shape[0], shape[1], j)\n",
    "        ax.matshow(images[j - 1, 0, :, :], cmap = matplotlib.cm.binary)\n",
    "        plt.xticks(np.array([]))\n",
    "        plt.yticks(np.array([]))\n",
    "    \n",
    "    print(title, ': ')\n",
    "    plt.show()"
   ]
  },
  {
   "cell_type": "code",
   "execution_count": 0,
   "metadata": {
    "colab": {},
    "colab_type": "code",
    "id": "vj4RP3o-BO1c"
   },
   "outputs": [],
   "source": [
    "# тренирует с отслеживанием показателей\n",
    "def train_eval(N_epoch, model):\n",
    "    print('Model %s :' % model.name)\n",
    "    \n",
    "    loss_history = {'train': [], 'valid': []}\n",
    "    metrics_history = {'accuracy':[]}\n",
    "    \n",
    "    for epoch in range(1, N_epoch): # N_epoch раз прогоняем обучение-тест\n",
    "        train_loss, valid_loss = [], []\n",
    "\n",
    "        ## training part \n",
    "        model.train()\n",
    "        for data, target in trainloader: # выбираем (data, target) батч за батчем\n",
    "            model.optim.zero_grad()\n",
    "\n",
    "            ## 1. forward propagation\n",
    "            output = model(data)\n",
    "\n",
    "            ## 2. loss calculation\n",
    "            #rho_loss = model.rho_loss(rho)\n",
    "            loss = model.loss(output, data) # + rho_loss\n",
    "            \n",
    "            ## 3. backward propagation\n",
    "            loss.backward()\n",
    "\n",
    "            ## 4. weight optimization\n",
    "            model.optim.step()\n",
    "\n",
    "            train_loss.append(loss.item())\n",
    "\n",
    "        loss_history['train'].append(np.mean(train_loss))\n",
    "\n",
    "        ## evaluation part \n",
    "        model.eval()\n",
    "        for data, target in validloader:\n",
    "            output = model(data)\n",
    "            \n",
    "            #rho_loss = model.rho_loss(rho)\n",
    "            loss = model.loss(output, data) #+ rho_loss\n",
    "            \n",
    "            valid_loss.append(loss.item())\n",
    "\n",
    "        loss_history['valid'].append(np.mean(valid_loss))\n",
    "        \n",
    "        print (\"Epoch:\", epoch, \"Training Loss: \", np.mean(train_loss), \"Valid Loss: \", np.mean(valid_loss))\n",
    "            \n",
    "    return (model, loss_history)"
   ]
  },
  {
   "cell_type": "markdown",
   "metadata": {
    "colab_type": "text",
    "id": "8vY-PdIzBO1w"
   },
   "source": [
    "### Создаем экземпляр модели и обучаем"
   ]
  },
  {
   "cell_type": "code",
   "execution_count": 18,
   "metadata": {
    "colab": {
     "base_uri": "https://localhost:8080/",
     "height": 208
    },
    "colab_type": "code",
    "id": "pzBxrZXBBO2J",
    "outputId": "663bc9b8-ee08-497d-8931-8ad0c10e51ef"
   },
   "outputs": [
    {
     "name": "stdout",
     "output_type": "stream",
     "text": [
      "Model Convoluted Autoencoder 16-8|8-16 :\n",
      "Epoch: 1 Training Loss:  0.6993176789022982 Valid Loss:  0.5468222369750341\n",
      "Epoch: 2 Training Loss:  0.5296306368273993 Valid Loss:  0.5129003395636876\n",
      "Epoch: 3 Training Loss:  0.5089347035624087 Valid Loss:  0.5002790222565333\n",
      "Epoch: 4 Training Loss:  0.49987052492797374 Valid Loss:  0.49361275049547354\n",
      "Epoch: 5 Training Loss:  0.49482068717479705 Valid Loss:  0.48957474206884705\n",
      "Epoch: 6 Training Loss:  0.4916219308351477 Valid Loss:  0.4868049927055836\n",
      "Epoch: 7 Training Loss:  0.48927247039973737 Valid Loss:  0.4846541843066613\n",
      "Epoch: 8 Training Loss:  0.48735056081786754 Valid Loss:  0.4828113359709581\n",
      "Epoch: 9 Training Loss:  0.48570879896481833 Valid Loss:  0.4813258294016123\n",
      "Epoch: 10 Training Loss:  0.4843819396259884 Valid Loss:  0.4801211919635534\n"
     ]
    }
   ],
   "source": [
    "model_autoencoder = Net(name='Convoluted Autoencoder 16-8|8-16')\n",
    "\n",
    "models = [model_autoencoder]\n",
    "\n",
    "# Запускаем обучение сетей\n",
    "N_epochs = 11\n",
    "history = []\n",
    "for i, model in enumerate(models):  \n",
    "      \n",
    "    net, loss_history = train_eval(N_epochs,model)\n",
    "    history.append({'net': net, 'loss': loss_history })"
   ]
  },
  {
   "cell_type": "code",
   "execution_count": 19,
   "metadata": {
    "colab": {
     "base_uri": "https://localhost:8080/",
     "height": 295
    },
    "colab_type": "code",
    "id": "f-H0Q_nfBO2p",
    "outputId": "751b7fde-94fd-4392-ceaa-4baa5fadc503"
   },
   "outputs": [
    {
     "data": {
      "image/png": "[encoded data removed]",
      "text/plain": [
       "<Figure size 1008x288 with 1 Axes>"
      ]
     },
     "metadata": {
      "tags": []
     },
     "output_type": "display_data"
    }
   ],
   "source": [
    "# Визуализируем показатели обучения\n",
    "for way in history:\n",
    "    show(way['loss'], 'Model ' + way['net'].name)    "
   ]
  },
  {
   "cell_type": "code",
   "execution_count": 0,
   "metadata": {
    "colab": {},
    "colab_type": "code",
    "id": "ndIVwCyPBO3k"
   },
   "outputs": [],
   "source": [
    "### Посмотрим глазами на результаты обучения"
   ]
  },
  {
   "cell_type": "code",
   "execution_count": 0,
   "metadata": {
    "colab": {},
    "colab_type": "code",
    "id": "0TUxOZfOBO4E"
   },
   "outputs": [],
   "source": [
    "# Возьмем 1 батч из тестового набора\n",
    "data, _ = next(iter(validloader))\n",
    "\n",
    "# Выход модели (автокодировщика) с этого батча\n",
    "modelka = models[0]\n",
    "output = modelka(data)\n",
    "\n",
    "to_plot = output.view(-1, 1, 28, 28).clamp(0, 1).data.numpy()\n"
   ]
  },
  {
   "cell_type": "code",
   "execution_count": 21,
   "metadata": {
    "colab": {
     "base_uri": "https://localhost:8080/",
     "height": 702
    },
    "colab_type": "code",
    "id": "cUFi3Rl1BO4f",
    "outputId": "c2a383e4-0982-439b-e226-21838c15bfc4"
   },
   "outputs": [
    {
     "name": "stdout",
     "output_type": "stream",
     "text": [
      "Батч из тестового набора : \n"
     ]
    },
    {
     "data": {
      "image/png": "[encoded data removed]",
      "text/plain": [
       "<Figure size 800x400 with 50 Axes>"
      ]
     },
     "metadata": {
      "tags": []
     },
     "output_type": "display_data"
    },
    {
     "name": "stdout",
     "output_type": "stream",
     "text": [
      "Выход сети автокодировщика : \n"
     ]
    },
    {
     "data": {
      "image/png": "[encoded data removed]",
      "text/plain": [
       "<Figure size 800x400 with 50 Axes>"
      ]
     },
     "metadata": {
      "tags": []
     },
     "output_type": "display_data"
    }
   ],
   "source": [
    "plot_mnist(data.data.numpy(), (5, 10), 'Батч из тестового набора')\n",
    "plot_mnist(to_plot, (5, 10), 'Выход сети автокодировщика')"
   ]
  },
  {
   "cell_type": "markdown",
   "metadata": {
    "colab_type": "text",
    "id": "MODi67v3BO5q"
   },
   "source": [
    "### Источники вдохновения"
   ]
  },
  {
   "cell_type": "markdown",
   "metadata": {
    "colab_type": "text",
    "id": "YSL1CycoBO51"
   },
   "source": [
    "1 https://blog.keras.io/building-autoencoders-in-keras.html"
   ]
  }
 ],
 "metadata": {
  "colab": {
   "name": "mnist_conv_autoencoder.ipynb",
   "provenance": [],
   "version": "0.3.2"
  },
  "kernelspec": {
   "display_name": "Python 3",
   "language": "python",
   "name": "python3"
  },
  "language_info": {
   "codemirror_mode": {
    "name": "ipython",
    "version": 3
   },
   "file_extension": ".py",
   "mimetype": "text/x-python",
   "name": "python",
   "nbconvert_exporter": "python",
   "pygments_lexer": "ipython3",
   "version": "3.7.2"
  }
 },
 "nbformat": 4,
 "nbformat_minor": 1
}
