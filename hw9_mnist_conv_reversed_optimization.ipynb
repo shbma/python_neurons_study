{
 "cells": [
  {
   "cell_type": "code",
   "execution_count": 1,
   "metadata": {},
   "outputs": [],
   "source": [
    "import torch\n",
    "from torchvision import transforms"
   ]
  },
  {
   "cell_type": "markdown",
   "metadata": {},
   "source": [
    "### Подготовка данных"
   ]
  },
  {
   "cell_type": "code",
   "execution_count": 2,
   "metadata": {},
   "outputs": [],
   "source": [
    "from torchvision.datasets import MNIST"
   ]
  },
  {
   "cell_type": "code",
   "execution_count": 3,
   "metadata": {},
   "outputs": [],
   "source": [
    "_tasks = transforms.Compose([\n",
    "    transforms.ToTensor(),\n",
    "    transforms.Normalize((0.1307,), (0.3081,))\n",
    "    ])"
   ]
  },
  {
   "cell_type": "code",
   "execution_count": 4,
   "metadata": {},
   "outputs": [],
   "source": [
    "## Load MNIST Dataset and apply transformations\n",
    "mnist = MNIST('./MNIST_data', download=True, train=True, transform=_tasks)"
   ]
  },
  {
   "cell_type": "code",
   "execution_count": 5,
   "metadata": {},
   "outputs": [],
   "source": [
    "from torch.utils.data import DataLoader\n",
    "from torch.utils.data.sampler import SubsetRandomSampler"
   ]
  },
  {
   "cell_type": "code",
   "execution_count": 6,
   "metadata": {},
   "outputs": [],
   "source": [
    "## create training and validation split \n",
    "split = int(0.8 * len(mnist))\n",
    "index_list = list(range(len(mnist)))\n",
    "train_idx, valid_idx = index_list[:split], index_list[split:]"
   ]
  },
  {
   "cell_type": "code",
   "execution_count": 7,
   "metadata": {},
   "outputs": [],
   "source": [
    "## create sampler objects using SubsetRandomSampler\n",
    "tr_sampler = SubsetRandomSampler(train_idx)\n",
    "val_sampler = SubsetRandomSampler(valid_idx)"
   ]
  },
  {
   "cell_type": "code",
   "execution_count": 8,
   "metadata": {},
   "outputs": [],
   "source": [
    "## create iterator objects for train and valid datasets\n",
    "batch_size = 50\n",
    "trainloader = DataLoader(mnist, batch_size=batch_size, sampler=tr_sampler)\n",
    "validloader = DataLoader(mnist, batch_size=batch_size, sampler=val_sampler)"
   ]
  },
  {
   "cell_type": "markdown",
   "metadata": {},
   "source": [
    "### Задаем архитектуру нейросети"
   ]
  },
  {
   "cell_type": "code",
   "execution_count": 9,
   "metadata": {},
   "outputs": [],
   "source": [
    "import torch.nn as nn\n",
    "import torch.nn.functional as F\n",
    "import torch.optim as optim\n",
    "from torchvision import datasets\n",
    "\n",
    "import numpy as np\n",
    "\n",
    "%matplotlib inline"
   ]
  },
  {
   "cell_type": "code",
   "execution_count": 10,
   "metadata": {},
   "outputs": [],
   "source": [
    "import matplotlib\n",
    "import matplotlib.pyplot as plt\n",
    "import numpy as np\n",
    "%matplotlib inline"
   ]
  },
  {
   "cell_type": "markdown",
   "metadata": {},
   "source": [
    "Связь между параметрами свертки и шириной входного/выходного изображения:\n",
    "\n",
    "$$W_{out} = \\frac{(W_{in} - K + 2P)}{S} + 1$$\n",
    "\n",
    "где $W_{int}$ - ширина входа, $K$ - размер ядра, $P$ - padding, $S$ - шаг\n",
    "\n",
    "Источник: https://neurohive.io/ru/tutorial/cnn-na-pytorch/ "
   ]
  },
  {
   "cell_type": "code",
   "execution_count": 11,
   "metadata": {},
   "outputs": [],
   "source": [
    "class Net(nn.Module):\n",
    "    def __init__(self, name='nn'): \n",
    "        super().__init__()\n",
    "        self.name = name\n",
    "        \n",
    "        # сверточные слои\n",
    "        self.layer1 = nn.Sequential(\n",
    "            nn.Conv2d(1, 16, kernel_size=3, stride=1, padding=1),\n",
    "            nn.ReLU(), \n",
    "            nn.MaxPool2d(kernel_size=2, stride=2)\n",
    "        ) \n",
    "        self.layer2 = nn.Sequential(\n",
    "            nn.Conv2d(16, 32, kernel_size=3, stride=1, padding=1),\n",
    "            nn.ReLU(),\n",
    "            nn.MaxPool2d(kernel_size=2, stride=2)\n",
    "        ) \n",
    "        \n",
    "        self.drop_out = nn.Dropout() \n",
    "        \n",
    "        # полносвязные слои\n",
    "        self.fc1 = nn.Linear(7 * 7 * 32, 1000) \n",
    "        self.fc2 = nn.Linear(1000, 10)\n",
    "        \n",
    "        self.optimizer = optim.Adam(self.parameters(), lr=1e-4)\n",
    "        \n",
    "    def forward(self, x): \n",
    "        out = self.layer1(x) \n",
    "        out = self.layer2(out) \n",
    "                \n",
    "        out = out.reshape(out.size(0), -1) #out.view(-1, 32*7*7)\n",
    "        out = self.drop_out(out) \n",
    "        \n",
    "        out = self.fc1(out) \n",
    "        out = torch.tanh(out)\n",
    "        out = self.fc2(out) \n",
    "        \n",
    "        return out                \n",
    "    \n",
    "    def loss(self, output, target):                \n",
    "        return F.cross_entropy(output, target) #объединяет и SoftMax и кросс-энтропийную функцию потерь"
   ]
  },
  {
   "cell_type": "code",
   "execution_count": 12,
   "metadata": {},
   "outputs": [],
   "source": [
    "# аналогичная сеть, заточенная для визуализации происходящего на каждом слое\n",
    "class NetPainter(nn.Module):\n",
    "    def __init__(self, name='nn'): \n",
    "        super().__init__()\n",
    "        self.name = name\n",
    "        \n",
    "        # сверточные слои\n",
    "        self.layer1conv = nn.Conv2d(1, 16, kernel_size=3, stride=1, padding=1)\n",
    "        self.relu1 = nn.ReLU()\n",
    "        self.pool1 = nn.MaxPool2d(kernel_size=2, stride=2)\n",
    "        \n",
    "        self.layer2conv = nn.Conv2d(16, 32, kernel_size=3, stride=1, padding=1)\n",
    "        self.relu2 = nn.ReLU()\n",
    "        self.pool2 = nn.MaxPool2d(kernel_size=2, stride=2)\n",
    "        \n",
    "        self.drop_out = nn.Dropout() \n",
    "        \n",
    "        # полносвязные слои\n",
    "        self.fc1 = nn.Linear(7 * 7 * 32, 1000) \n",
    "        self.fc2 = nn.Linear(1000, 10)\n",
    "        \n",
    "        self.optimizer = optim.Adam(self.parameters(), lr=1e-4)\n",
    "        \n",
    "    def forward(self, x): \n",
    "        out = dict()\n",
    "        \n",
    "        # 1й сверточный слой\n",
    "        y = self.layer1conv(x) \n",
    "        out['layer1conv'] = y\n",
    "        y = self.relu1(y) \n",
    "        out['relu1'] = y\n",
    "        y = self.pool1(y)\n",
    "        out['pool1'] = y\n",
    "        \n",
    "        # 2й сверточный слой\n",
    "        y = self.layer2conv(y) \n",
    "        out['layer2conv'] = y\n",
    "        y = self.relu1(y) \n",
    "        out['relu2'] = y\n",
    "        y = self.pool1(y)\n",
    "        out['pool2'] = y\n",
    "                \n",
    "        y = y.reshape(y.size(0), -1) #out.view(-1, 32*7*7)\n",
    "        out['flatten'] = y\n",
    "        y = self.drop_out(y)\n",
    "        out['dropout'] = y\n",
    "        \n",
    "        y = self.fc1(y) \n",
    "        out['dense1'] = y\n",
    "        y = torch.tanh(y)\n",
    "        out['denseTanh'] = y\n",
    "        y = self.fc2(y) \n",
    "        out['y'] = y\n",
    "        \n",
    "        return out                \n",
    "    \n",
    "    def loss(self, output, target):                \n",
    "        return F.cross_entropy(output, target) #объединяет и SoftMax и кросс-энтропийную функцию потерь"
   ]
  },
  {
   "cell_type": "markdown",
   "metadata": {},
   "source": [
    "### Тренировка"
   ]
  },
  {
   "cell_type": "markdown",
   "metadata": {},
   "source": [
    "######  несколько вспомогательных функций"
   ]
  },
  {
   "cell_type": "code",
   "execution_count": 13,
   "metadata": {},
   "outputs": [],
   "source": [
    "# Возвращает число попаданий на проверочном наборе validloader\n",
    "def get_accuracy(model, validloader):\n",
    "    accuracys = np.array([])\n",
    "  \n",
    "    for images, targets in validloader:\n",
    "        total = targets.size(0)                       \n",
    "        \n",
    "        with torch.no_grad():                        \n",
    "            output = model(images)\n",
    "            if isinstance(output, dict):\n",
    "                output = output['y']\n",
    "            _, pos = output.max(1)            \n",
    "            correct = (pos == targets).sum().item()                            \n",
    "            \n",
    "            accuracys = np.append(accuracys, correct/total)\n",
    "        \n",
    "    accuracy = accuracys.mean()\n",
    "    \n",
    "    return accuracy"
   ]
  },
  {
   "cell_type": "code",
   "execution_count": 14,
   "metadata": {},
   "outputs": [],
   "source": [
    "# Строит графики\n",
    "def show(loss_history, metrics_history, title):\n",
    "    fig, (ax1, ax2) = plt.subplots(1,2, figsize=(14,4))\n",
    "\n",
    "    ax1.plot(loss_history['valid'], label='на проверочном наборе')\n",
    "    ax1.plot(loss_history['train'], label='на обучающем наборе')\n",
    "    ax1.grid()\n",
    "    ax1.set_title(title)    \n",
    "    ax1.set_xlabel('Эпоха обучения')\n",
    "    ax1.set_ylabel('Loss')\n",
    "    ax1.legend()\n",
    "\n",
    "    ax2.plot(metrics_history['accuracy'], label='accuracy')\n",
    "    ax2.grid()\n",
    "    ax2.set_title(title) \n",
    "    ax2.set_xlabel('Эпоха обучения')\n",
    "    ax2.set_ylabel('Accuracy')\n",
    "    ax2.legend();"
   ]
  },
  {
   "cell_type": "code",
   "execution_count": 15,
   "metadata": {},
   "outputs": [],
   "source": [
    "# отрисовывает в черно-белом стиле изображения из массива images,\n",
    "# расставляя их по матрице формы shape\n",
    "def plot_mnist(images, shape, title):\n",
    "    fig = plt.figure(figsize=shape[::-1], dpi=80)    \n",
    "    \n",
    "    for j in range(1, len(images) + 1):\n",
    "        ax = fig.add_subplot(shape[0], shape[1], j)\n",
    "        ax.matshow(images[j - 1, 0, :, :], cmap = matplotlib.cm.binary)\n",
    "        plt.xticks(np.array([]))\n",
    "        plt.yticks(np.array([]))\n",
    "    \n",
    "    print(title, ': ')\n",
    "    plt.show()"
   ]
  },
  {
   "cell_type": "code",
   "execution_count": 16,
   "metadata": {},
   "outputs": [],
   "source": [
    "# Отрисовывает image - матрицу ч/б картинки\n",
    "def plot_img(image, shape, title):\n",
    "    fig, ax = plt.subplots(figsize=(shape[1],shape[0])) \n",
    "    ax.matshow(image, cmap = matplotlib.cm.binary)\n",
    "    plt.xticks(np.array([]))\n",
    "    plt.yticks(np.array([]))\n",
    "\n",
    "    print(title)\n",
    "    plt.show() \n",
    "    \n",
    "# Отрисовывает серию изорбражений\n",
    "# images - массив из матриц ч/б картинок\n",
    "def plot_imgs(images, shape, title):    \n",
    "    fig, ax = plt.subplots(figsize=(shape[1],shape[0]))\n",
    "    \n",
    "    for j in range(len(images)):                \n",
    "        ax = fig.add_subplot(shape[0], shape[1], j+1)\n",
    "        ax.matshow(images[j], cmap = matplotlib.cm.binary)\n",
    "        plt.xticks(np.array([]))\n",
    "        plt.yticks(np.array([]))\n",
    "    \n",
    "    print(title)\n",
    "    plt.show() \n",
    "  \n",
    "# Рисует плоский массив как график кривой\n",
    "def plot_line(arr, shape, title):\n",
    "    fig, ax = plt.subplots(figsize=(shape[1],shape[0]))\n",
    "    \n",
    "    x = np.linspace(0, arr.shape[0], arr.shape[0])\n",
    "    ax.plot(x, arr)\n",
    "\n",
    "    print(title)\n",
    "    plt.show()"
   ]
  },
  {
   "cell_type": "code",
   "execution_count": 17,
   "metadata": {},
   "outputs": [],
   "source": [
    "# тренирует с отслеживанием показателей\n",
    "def train_eval(N_epoch, model):\n",
    "    print('Model %s :' % model.name)\n",
    "    \n",
    "    loss_history = {'train': [], 'valid': []}\n",
    "    metrics_history = {'accuracy':[]}\n",
    "    \n",
    "    for epoch in range(1, N_epoch): ## run the model for series of epochs\n",
    "        train_loss, valid_loss = [], []\n",
    "        n_batches = len(trainloader)\n",
    "\n",
    "        ## training part \n",
    "        model.train()        \n",
    "        for i, (images, targets) in enumerate(trainloader):\n",
    "            model.optimizer.zero_grad()\n",
    "\n",
    "            ## 1. прямой ход\n",
    "            output = model(images)\n",
    "            if isinstance(output,dict):\n",
    "                output = output['y']\n",
    "\n",
    "            ## 2. рассчет ошибки\n",
    "            loss = model.loss(output, targets)\n",
    "\n",
    "            ## 3. обратный ход\n",
    "            loss.backward()\n",
    "\n",
    "            ## 4. оптимизация весов\n",
    "            model.optimizer.step()\n",
    "\n",
    "            train_loss.append(loss.item())\n",
    "            \n",
    "            if (i + 1) % 200 == 0:\n",
    "                print(f'Epoch: {epoch}, Batch: {i+1}/{n_batches}', end=',')\n",
    "                print(f'Train Loss:{np.mean(train_loss)}')                      \n",
    "\n",
    "        loss_history['train'].append(np.mean(train_loss))\n",
    "\n",
    "        ## evaluation part \n",
    "        model.eval()\n",
    "        for images, targets in validloader:\n",
    "            output = model(images)\n",
    "            if isinstance(output,dict):\n",
    "                output = output['y']\n",
    "            loss = model.loss(output, targets)\n",
    "            valid_loss.append(loss.item())\n",
    "\n",
    "        loss_history['valid'].append(np.mean(valid_loss))\n",
    "\n",
    "        acc = get_accuracy(model, validloader)\n",
    "        metrics_history['accuracy'].append(acc)\n",
    "\n",
    "        print(f'Epoch: {epoch}', end=',')\n",
    "        print(f'Valid Loss: {np.mean(valid_loss)}', end=',')\n",
    "        print(f'Accuracy: {acc}')\n",
    "            \n",
    "    return (model, loss_history, metrics_history)"
   ]
  },
  {
   "cell_type": "markdown",
   "metadata": {},
   "source": [
    "######  собственно обучение"
   ]
  },
  {
   "cell_type": "code",
   "execution_count": 18,
   "metadata": {},
   "outputs": [],
   "source": [
    "# Запускаем обучение сети с акцентом на визуализацю внутренней кухни\n",
    "modelsP =[NetPainter('nn_painter')]"
   ]
  },
  {
   "cell_type": "code",
   "execution_count": 18,
   "metadata": {},
   "outputs": [
    {
     "name": "stdout",
     "output_type": "stream",
     "text": [
      "Model nn_painter :\n",
      "Epoch: 1, Batch: 200/960,Train Loss:0.9336638826876879\n",
      "Epoch: 1, Batch: 400/960,Train Loss:0.6465394562110305\n",
      "Epoch: 1, Batch: 600/960,Train Loss:0.5138441018698117\n",
      "Epoch: 1, Batch: 800/960,Train Loss:0.43897605714388194\n",
      "Epoch: 1,Valid Loss: 0.11729571463850637,Accuracy: 0.9658333333333334\n",
      "Epoch: 2, Batch: 200/960,Train Loss:0.16356235031038524\n",
      "Epoch: 2, Batch: 400/960,Train Loss:0.15533819126896561\n",
      "Epoch: 2, Batch: 600/960,Train Loss:0.14975248029455543\n",
      "Epoch: 2, Batch: 800/960,Train Loss:0.14635515263536944\n",
      "Epoch: 2,Valid Loss: 0.07706893783955214,Accuracy: 0.9780000000000001\n",
      "Epoch: 3, Batch: 200/960,Train Loss:0.11836276124231518\n",
      "Epoch: 3, Batch: 400/960,Train Loss:0.11515535959973931\n",
      "Epoch: 3, Batch: 600/960,Train Loss:0.11323501008873184\n",
      "Epoch: 3, Batch: 800/960,Train Loss:0.1124965192086529\n",
      "Epoch: 3,Valid Loss: 0.0671429690439254,Accuracy: 0.9800833333333334\n",
      "Epoch: 4, Batch: 200/960,Train Loss:0.09227821578271687\n",
      "Epoch: 4, Batch: 400/960,Train Loss:0.09284128424478695\n",
      "Epoch: 4, Batch: 600/960,Train Loss:0.09247951646335423\n",
      "Epoch: 4, Batch: 800/960,Train Loss:0.09128310870495625\n",
      "Epoch: 4,Valid Loss: 0.05510337243031245,Accuracy: 0.9829166666666668\n",
      "Epoch: 5, Batch: 200/960,Train Loss:0.08357399794273078\n",
      "Epoch: 5, Batch: 400/960,Train Loss:0.08596274523530155\n",
      "Epoch: 5, Batch: 600/960,Train Loss:0.08377489280188456\n",
      "Epoch: 5, Batch: 800/960,Train Loss:0.08117667913320474\n",
      "Epoch: 5,Valid Loss: 0.050746957742861316,Accuracy: 0.9842500000000001\n",
      "Epoch: 6, Batch: 200/960,Train Loss:0.06954839494079351\n",
      "Epoch: 6, Batch: 400/960,Train Loss:0.06864450276712887\n",
      "Epoch: 6, Batch: 600/960,Train Loss:0.07223739143460989\n",
      "Epoch: 6, Batch: 800/960,Train Loss:0.07330619249434676\n",
      "Epoch: 6,Valid Loss: 0.04399705022709289,Accuracy: 0.9875833333333335\n",
      "Epoch: 7, Batch: 200/960,Train Loss:0.06706269982038066\n",
      "Epoch: 7, Batch: 400/960,Train Loss:0.0684551805895171\n",
      "Epoch: 7, Batch: 600/960,Train Loss:0.06939657185284887\n",
      "Epoch: 7, Batch: 800/960,Train Loss:0.06851626312753069\n",
      "Epoch: 7,Valid Loss: 0.043035410582767025,Accuracy: 0.9875\n",
      "Epoch: 8, Batch: 200/960,Train Loss:0.06512761363876052\n",
      "Epoch: 8, Batch: 400/960,Train Loss:0.0642849866981851\n",
      "Epoch: 8, Batch: 600/960,Train Loss:0.0646075675516234\n",
      "Epoch: 8, Batch: 800/960,Train Loss:0.06289030506304698\n",
      "Epoch: 8,Valid Loss: 0.039470680573625336,Accuracy: 0.9885833333333334\n",
      "Epoch: 9, Batch: 200/960,Train Loss:0.05728175299009308\n",
      "Epoch: 9, Batch: 400/960,Train Loss:0.055287471320480105\n",
      "Epoch: 9, Batch: 600/960,Train Loss:0.05751907665360098\n",
      "Epoch: 9, Batch: 800/960,Train Loss:0.05820996622001985\n",
      "Epoch: 9,Valid Loss: 0.038018368939568364,Accuracy: 0.98875\n"
     ]
    }
   ],
   "source": [
    "historyP = []\n",
    "for i, model in enumerate(modelsP):\n",
    "    N_epochs = 10\n",
    "      \n",
    "    net, loss_history, metrics_history = train_eval(N_epochs,model)\n",
    "    historyP.append({'net': net, 'loss': loss_history, 'metrics': metrics_history })"
   ]
  },
  {
   "cell_type": "code",
   "execution_count": 18,
   "metadata": {},
   "outputs": [],
   "source": [
    "#сохранение состояния модели\n",
    "\n",
    "#model4save = modelsP[0]\n",
    "#torch.save(model4save.state_dict(), 'the_model_state_dict.pt')\n",
    "\n",
    "#еще один способ сохранения модели\n",
    "#torch.save(model4save, 'the_model.pt')"
   ]
  },
  {
   "cell_type": "code",
   "execution_count": 19,
   "metadata": {},
   "outputs": [
    {
     "data": {
      "text/plain": [
       "NetPainter(\n",
       "  (layer1conv): Conv2d(1, 16, kernel_size=(3, 3), stride=(1, 1), padding=(1, 1))\n",
       "  (relu1): ReLU()\n",
       "  (pool1): MaxPool2d(kernel_size=2, stride=2, padding=0, dilation=1, ceil_mode=False)\n",
       "  (layer2conv): Conv2d(16, 32, kernel_size=(3, 3), stride=(1, 1), padding=(1, 1))\n",
       "  (relu2): ReLU()\n",
       "  (pool2): MaxPool2d(kernel_size=2, stride=2, padding=0, dilation=1, ceil_mode=False)\n",
       "  (drop_out): Dropout(p=0.5)\n",
       "  (fc1): Linear(in_features=1568, out_features=1000, bias=True)\n",
       "  (fc2): Linear(in_features=1000, out_features=10, bias=True)\n",
       ")"
      ]
     },
     "execution_count": 19,
     "metadata": {},
     "output_type": "execute_result"
    }
   ],
   "source": [
    "#загрузка сохраненного состояния модели\n",
    "\n",
    "checkpoint = torch.load('the_model_state_dict.pt')\n",
    "#checkpoint\n",
    "modelsP[0].load_state_dict(checkpoint)\n",
    "modelsP[0].eval()"
   ]
  },
  {
   "cell_type": "markdown",
   "metadata": {},
   "source": [
    "### Визуализируем результаты обучения"
   ]
  },
  {
   "cell_type": "code",
   "execution_count": 22,
   "metadata": {},
   "outputs": [
    {
     "data": {
      "image/png": "[encoded data removed]",
      "text/plain": [
       "<Figure size 1008x288 with 2 Axes>"
      ]
     },
     "metadata": {
      "needs_background": "light"
     },
     "output_type": "display_data"
    }
   ],
   "source": [
    "# Визуализируем показатели обучения\n",
    "for way in historyP:\n",
    "    show(way['loss'], way['metrics'], 'Model ' + way['net'].name) "
   ]
  },
  {
   "cell_type": "code",
   "execution_count": 20,
   "metadata": {},
   "outputs": [
    {
     "name": "stdout",
     "output_type": "stream",
     "text": [
      "Батч из тестового набора : \n"
     ]
    },
    {
     "data": {
      "image/png": "[encoded data removed]",
      "text/plain": [
       "<Figure size 800x400 with 50 Axes>"
      ]
     },
     "metadata": {},
     "output_type": "display_data"
    },
    {
     "name": "stdout",
     "output_type": "stream",
     "text": [
      "Что увидела нейросеть: \n",
      " tensor([8, 4, 5, 6, 6, 7, 0, 7, 4, 2, 5, 3, 4, 7, 0, 8, 5, 6, 9, 9, 1, 5, 8, 5,\n",
      "        0, 2, 1, 4, 3, 1, 9, 0, 9, 0, 8, 2, 7, 6, 2, 4, 2, 1, 3, 2, 1, 9, 0, 2,\n",
      "        7, 5])\n",
      "Правильных ответов 49 из 50\n"
     ]
    }
   ],
   "source": [
    "# Посмотрим результаты в виде вход-выход на примере одного из батчей\n",
    "data, targets = next(iter(validloader))\n",
    "\n",
    "plot_mnist(data.data.numpy(), (5, 10), 'Батч из тестового набора')\n",
    "\n",
    "modelka = modelsP[0]\n",
    "output = modelka(data)\n",
    "\n",
    "_, pos = output['y'].max(1)\n",
    "print(f'Что увидела нейросеть: \\n {pos}')\n",
    "\n",
    "correct = (pos == targets).sum().item()\n",
    "total = targets.size(0)\n",
    "print(f'Правильных ответов {correct} из {total}')"
   ]
  },
  {
   "cell_type": "code",
   "execution_count": null,
   "metadata": {},
   "outputs": [],
   "source": []
  },
  {
   "cell_type": "markdown",
   "metadata": {},
   "source": [
    "### Теперь - задача наоборот:\n",
    "### Оптимизация изображения под активацию сверточных нейронов классификатора\n",
    "\n",
    "Фиксируете веса сети и смещения, а затем \"обучаете\" модель так, чтобы получить максимальную активацию на заданном нейроне, соответсвующем, например, цифре 0, 1, 2... и так далее - любой, какую выберете. Если модель - это Wx + b, и веса - W, а данные - x, то при обучении на максимизацию активации нейрона вы фиксируете W и \"обучаете\" (оптимизируете) x и на выходе получаете \"оптимальную\" картинку под заданный нейрон с точки зрения весов. Вы как бы делаете backpropagation на пикселях, а обученные веса модели используете как входные данные"
   ]
  },
  {
   "cell_type": "markdown",
   "metadata": {},
   "source": [
    "##### Будем работать с нейроном номер 7\n",
    "\n",
    "Вспомогательные функции"
   ]
  },
  {
   "cell_type": "code",
   "execution_count": 30,
   "metadata": {},
   "outputs": [],
   "source": [
    "from scipy.optimize import minimize\n",
    "\n",
    "# визуализирует цифру\n",
    "def show_im(imago, title=\"Картинка\"):\n",
    "    image = imago.data.numpy()[0][0]\n",
    "    plot_img(image, (3,5), title)\n",
    "\n",
    "# Возвращает значение функции активации neuron-го нейрона 1го полносвязного слоя (последнего с функцией активации)\n",
    "# модели net.\n",
    "# vector - развернутое в вектор изображение\n",
    "def activationSingle(vector, net, neuron):    \n",
    "    vector = torch.tensor(vector).float()\n",
    "    imago = vector.view(1,1,28,28)    \n",
    "    output = net(imago)   \n",
    "    return -output['denseTanh'][0][neuron].item()\n",
    "\n",
    "# Возвращает значение на выходе neuron-го нейрона 2го полносвязного слоя (выходной слой)\n",
    "# модели net.\n",
    "# vector - развернутое в вектор изображение\n",
    "def activationSingleOut(vector, net, neuron):    \n",
    "    vector = torch.tensor(vector).float()\n",
    "    imago = vector.view(1,1,28,28)    \n",
    "    output = net(imago)   \n",
    "    return -output['y'][0][neuron].item()"
   ]
  },
  {
   "cell_type": "code",
   "execution_count": null,
   "metadata": {},
   "outputs": [],
   "source": [
    "Возбмем входное изображение"
   ]
  },
  {
   "cell_type": "code",
   "execution_count": 22,
   "metadata": {},
   "outputs": [],
   "source": [
    "data, targets = next(iter(validloader))\n",
    "neuron = 6"
   ]
  },
  {
   "cell_type": "code",
   "execution_count": 29,
   "metadata": {},
   "outputs": [
    {
     "name": "stdout",
     "output_type": "stream",
     "text": [
      "Выходной слой (2й полносвязный):\n",
      " tensor([[-7.3579,  1.9114, -3.5297, -3.8737, 16.6877, -2.6665, -5.2886,  1.8478,\n",
      "          2.2370,  2.9719]], grad_fn=<AddmmBackward>)\n",
      "Нейросеть опознала цифру: \n",
      " 4\n",
      "Картинка:\n"
     ]
    },
    {
     "data": {
      "image/png": "[encoded data removed]",
      "text/plain": [
       "<Figure size 360x216 with 1 Axes>"
      ]
     },
     "metadata": {},
     "output_type": "display_data"
    },
    {
     "name": "stdout",
     "output_type": "stream",
     "text": [
      "значение функции активации на 7м нейроне 1го полносвязного слоя: 0.48599323630332947\n"
     ]
    },
    {
     "name": "stderr",
     "output_type": "stream",
     "text": [
      "/home/michael/anaconda3/lib/python3.7/site-packages/ipykernel_launcher.py:12: UserWarning: To copy construct from a tensor, it is recommended to use sourceTensor.clone().detach() or sourceTensor.clone().detach().requires_grad_(True), rather than torch.tensor(sourceTensor).\n",
      "  if sys.path[0] == '':\n"
     ]
    }
   ],
   "source": [
    "imago = data.split(split_size=1, dim=0)[0]\n",
    "output = modelka(imago)   \n",
    "\n",
    "print('Выходной слой (2й полносвязный):\\n', output['y'])\n",
    "_, pos = output['y'].max(1) # выбираем класс с максимальным сигналом\n",
    "print(f'Нейросеть опознала цифру: \\n {pos.item()}')\n",
    "\n",
    "show_im(imago)\n",
    "\n",
    "vector0 = imago[0][0].view(28*28,1)\n",
    "\n",
    "start_activation = activationSingle(vector0, modelka, neuron)\n",
    "print(F\"значение функции активации на 7м нейроне 1го полносвязного слоя: {start_activation}\")"
   ]
  },
  {
   "cell_type": "markdown",
   "metadata": {},
   "source": [
    "#####  Максимизируем фунцию активации 7го нейрона 1го полносвязного слоя"
   ]
  },
  {
   "cell_type": "code",
   "execution_count": 26,
   "metadata": {},
   "outputs": [
    {
     "name": "stdout",
     "output_type": "stream",
     "text": [
      " fun=0.48599323630332947 \n",
      " nfev=24366 \n",
      " nit=1 \n",
      " success=True\n"
     ]
    }
   ],
   "source": [
    "res = minimize(activationSingle, vector0, args=(modelka,6), method='BFGS', tol=1e-5)\n",
    "print(f' fun={res.fun} \\n nfev={res.nfev} \\n nit={res.nit} \\n success={res.success}')"
   ]
  },
  {
   "cell_type": "code",
   "execution_count": 28,
   "metadata": {},
   "outputs": [
    {
     "name": "stdout",
     "output_type": "stream",
     "text": [
      " fun=-0.049513477832078934 \n",
      " nfev=156800 \n",
      " nit=153109 \n",
      " success=False\n"
     ]
    }
   ],
   "source": [
    "res1 = minimize(activationSingle, vector0, args=(modelka,6), method='Nelder-Mead', tol=1e-5)\n",
    "print(f' fun={res1.fun} \\n nfev={res1.nfev} \\n nit={res1.nit} \\n success={res1.success}')"
   ]
  },
  {
   "cell_type": "markdown",
   "metadata": {},
   "source": [
    "Nelder-Mead как-бы не достиг усперха, но в итоге сработал лучше BFGS (глубже минимум => выше максимум)\n",
    "\n",
    "Визуализируем:"
   ]
  },
  {
   "cell_type": "code",
   "execution_count": 35,
   "metadata": {},
   "outputs": [
    {
     "name": "stdout",
     "output_type": "stream",
     "text": [
      "оптимизированное (BFGS) изображение\n"
     ]
    },
    {
     "data": {
      "image/png": "[encoded data removed]",
      "text/plain": [
       "<Figure size 360x216 with 1 Axes>"
      ]
     },
     "metadata": {},
     "output_type": "display_data"
    },
    {
     "name": "stdout",
     "output_type": "stream",
     "text": [
      "Значение функции активации на 7м нейроне -0.48599323630332947 \n",
      "\n",
      "оптимизированное (Nelder-Mead) изображение\n"
     ]
    },
    {
     "data": {
      "image/png": "[encoded data removed]",
      "text/plain": [
       "<Figure size 360x216 with 1 Axes>"
      ]
     },
     "metadata": {},
     "output_type": "display_data"
    },
    {
     "name": "stdout",
     "output_type": "stream",
     "text": [
      "Значение функции активации на 7м нейроне 0.049513477832078934\n"
     ]
    }
   ],
   "source": [
    "# нарисуем изображение, оптимизированное по BFGS\n",
    "vector = torch.tensor(res.x).float()\n",
    "imago = vector.view(1,1,28,28)\n",
    "show_im(imago, 'оптимизированное (BFGS) изображение')\n",
    "\n",
    "print('Значение функции активации на 7м нейроне', modelka(imago)['denseTanh'][0][6].item(), '\\n')\n",
    "\n",
    "# нарисуем изображение, оптимизированное по Nelder-Mead\n",
    "vector1 = torch.tensor(res1.x).float()\n",
    "imago1 = vector1.view(1,1,28,28)\n",
    "show_im(imago1, 'оптимизированное (Nelder-Mead) изображение')\n",
    "\n",
    "print('Значение функции активации на 7м нейроне', modelka(imago1)['denseTanh'][0][6].item())"
   ]
  },
  {
   "cell_type": "markdown",
   "metadata": {},
   "source": [
    "#### Максимизируем выход 7го нейрона выходного слоя (2го полносвязного)"
   ]
  },
  {
   "cell_type": "code",
   "execution_count": 24,
   "metadata": {},
   "outputs": [
    {
     "name": "stdout",
     "output_type": "stream",
     "text": [
      " fun=5.283811092376709 \n",
      " nfev=2358 \n",
      " nit=1 \n",
      " success=True\n"
     ]
    }
   ],
   "source": [
    "res2 = minimize(activationSingleOut, vector0, args=(modelka,6), method='BFGS', tol=1e-5)\n",
    "print(f' fun={res2.fun} \\n nfev={res2.nfev} \\n nit={res2.nit} \\n success={res2.success}')"
   ]
  },
  {
   "cell_type": "code",
   "execution_count": 36,
   "metadata": {},
   "outputs": [
    {
     "name": "stdout",
     "output_type": "stream",
     "text": [
      " fun=-12.89433765411377 \n",
      " nfev=156800 \n",
      " nit=155320 \n",
      " success=False\n"
     ]
    }
   ],
   "source": [
    "res3 = minimize(activationSingleOut, vector0, args=(modelka,6), method='Nelder-Mead', tol=1e-5)\n",
    "print(f' fun={res3.fun} \\n nfev={res3.nfev} \\n nit={res3.nit} \\n success={res3.success}')"
   ]
  },
  {
   "cell_type": "code",
   "execution_count": 39,
   "metadata": {},
   "outputs": [
    {
     "name": "stdout",
     "output_type": "stream",
     "text": [
      "BFGS\n"
     ]
    },
    {
     "data": {
      "image/png": "[encoded data removed]",
      "text/plain": [
       "<Figure size 360x216 with 1 Axes>"
      ]
     },
     "metadata": {},
     "output_type": "display_data"
    },
    {
     "name": "stdout",
     "output_type": "stream",
     "text": [
      "Значение функции активации на 7м нейроне -5.283811092376709\n"
     ]
    }
   ],
   "source": [
    "vector2 = torch.tensor(res2.x).float()\n",
    "imago2 = vector2.view(1,1,28,28)\n",
    "show_im(imago2, 'BFGS')\n",
    "\n",
    "print('Значение функции активации на 7м нейроне', modelka(imago2)['y'][0][6].item())"
   ]
  },
  {
   "cell_type": "code",
   "execution_count": 40,
   "metadata": {},
   "outputs": [
    {
     "name": "stdout",
     "output_type": "stream",
     "text": [
      "Nelder-Mead\n"
     ]
    },
    {
     "data": {
      "image/png": "[encoded data removed]",
      "text/plain": [
       "<Figure size 360x216 with 1 Axes>"
      ]
     },
     "metadata": {},
     "output_type": "display_data"
    },
    {
     "name": "stdout",
     "output_type": "stream",
     "text": [
      "Значение функции активации на 7м нейроне 12.89433765411377\n"
     ]
    }
   ],
   "source": [
    "vector3 = torch.tensor(res3.x).float()\n",
    "imago3 = vector3.view(1,1,28,28)\n",
    "show_im(imago3, 'Nelder-Mead')\n",
    "\n",
    "print('Значение функции активации на 7м нейроне', modelka(imago3)['y'][0][6].item())"
   ]
  },
  {
   "cell_type": "markdown",
   "metadata": {},
   "source": [
    "#### Заключение по обратной задаче"
   ]
  },
  {
   "cell_type": "markdown",
   "metadata": {},
   "source": [
    "Стремление максимизировать выход нейрона при фиксированных весах по переменному изображению приводит к снижению контрастности основного поля картинки и появлению двух-трех очень контрастных точек.\n",
    "\n",
    "Идеальной максимизации (до 1, в случае с тангенсом как функции активации) достичь не удалось. Алгоритм Недлера-Мида показал заметно лучшие результаты, чем градиентный BFGS."
   ]
  },
  {
   "cell_type": "markdown",
   "metadata": {},
   "source": [
    "### Источники"
   ]
  },
  {
   "cell_type": "markdown",
   "metadata": {},
   "source": [
    "1. https://neurohive.io/ru/tutorial/cnn-na-pytorch/"
   ]
  }
 ],
 "metadata": {
  "kernelspec": {
   "display_name": "Python 3",
   "language": "python",
   "name": "python3"
  },
  "language_info": {
   "codemirror_mode": {
    "name": "ipython",
    "version": 3
   },
   "file_extension": ".py",
   "mimetype": "text/x-python",
   "name": "python",
   "nbconvert_exporter": "python",
   "pygments_lexer": "ipython3",
   "version": "3.7.2"
  }
 },
 "nbformat": 4,
 "nbformat_minor": 2
}
